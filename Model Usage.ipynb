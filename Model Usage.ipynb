{
 "cells": [
  {
   "cell_type": "code",
   "execution_count": 2,
   "id": "e8d619b1",
   "metadata": {},
   "outputs": [],
   "source": [
    "from joblib import dump, load\n",
    "import numpy as np\n",
    "model = load('Dragon.joblib')"
   ]
  },
  {
   "cell_type": "code",
   "execution_count": 1,
   "id": "5d0d84d2",
   "metadata": {},
   "outputs": [
    {
     "ename": "NameError",
     "evalue": "name 'np' is not defined",
     "output_type": "error",
     "traceback": [
      "\u001b[1;31m---------------------------------------------------------------------------\u001b[0m",
      "\u001b[1;31mNameError\u001b[0m                                 Traceback (most recent call last)",
      "Input \u001b[1;32mIn [1]\u001b[0m, in \u001b[0;36m<cell line: 1>\u001b[1;34m()\u001b[0m\n\u001b[1;32m----> 1\u001b[0m features \u001b[38;5;241m=\u001b[39m \u001b[43mnp\u001b[49m\u001b[38;5;241m.\u001b[39marray([[\u001b[38;5;241m1.43942006\u001b[39m,  \u001b[38;5;241m3.12628155\u001b[39m, \u001b[38;5;241m-\u001b[39m\u001b[38;5;241m1.12165014\u001b[39m, \u001b[38;5;241m-\u001b[39m\u001b[38;5;241m0.27288841\u001b[39m, \u001b[38;5;241m-\u001b[39m\u001b[38;5;241m1.42262747\u001b[39m,\n\u001b[0;32m      2\u001b[0m        \u001b[38;5;241m-\u001b[39m\u001b[38;5;241m0.24141041\u001b[39m, \u001b[38;5;241m-\u001b[39m\u001b[38;5;241m1.31238772\u001b[39m,  \u001b[38;5;241m2.61111401\u001b[39m, \u001b[38;5;241m-\u001b[39m\u001b[38;5;241m1.0016859\u001b[39m , \u001b[38;5;241m-\u001b[39m\u001b[38;5;241m0.5778192\u001b[39m ,\n\u001b[0;32m      3\u001b[0m        \u001b[38;5;241m-\u001b[39m\u001b[38;5;241m0.97491834\u001b[39m,  \u001b[38;5;241m0.41164221\u001b[39m, \u001b[38;5;241m0.86091034\u001b[39m]])\n\u001b[0;32m      5\u001b[0m model\u001b[38;5;241m.\u001b[39mpredict(features)\n",
      "\u001b[1;31mNameError\u001b[0m: name 'np' is not defined"
     ]
    }
   ],
   "source": [
    "features = np.array([[1.43942006,  3.12628155, -1.12165014, -0.27288841, -1.42262747,\n",
    "       -0.24141041, -1.31238772,  2.61111401, -1.0016859 , -0.5778192 ,\n",
    "       -0.97491834,  0.41164221, 0.86091034]])\n",
    "\n",
    "model.predict(features)"
   ]
  },
  {
   "cell_type": "code",
   "execution_count": null,
   "id": "5c5da81a",
   "metadata": {},
   "outputs": [],
   "source": []
  }
 ],
 "metadata": {
  "kernelspec": {
   "display_name": "Python 3 (ipykernel)",
   "language": "python",
   "name": "python3"
  },
  "language_info": {
   "codemirror_mode": {
    "name": "ipython",
    "version": 3
   },
   "file_extension": ".py",
   "mimetype": "text/x-python",
   "name": "python",
   "nbconvert_exporter": "python",
   "pygments_lexer": "ipython3",
   "version": "3.10.0"
  }
 },
 "nbformat": 4,
 "nbformat_minor": 5
}
